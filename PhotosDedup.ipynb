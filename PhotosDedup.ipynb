{
 "cells": [
  {
   "cell_type": "code",
   "execution_count": null,
   "metadata": {
    "collapsed": true
   },
   "outputs": [],
   "source": [
    "import pandas as pd\n",
    "import glob\n",
    "import os\n",
    "from shutil import copyfile\n",
    "import hashlib\n"
   ]
  },
  {
   "cell_type": "code",
   "execution_count": null,
   "metadata": {
    "collapsed": true
   },
   "outputs": [],
   "source": [
    "# Declare constants\n",
    "\n",
    "fp_output = '/Users/vkulkarni/Pictures/DeDupedPhotos/'\n",
    "fp_output_new = '/Users/vkulkarni/Pictures/DeDupedPhotos_v2/'\n",
    "\n",
    "md5dict = dict()"
   ]
  },
  {
   "cell_type": "code",
   "execution_count": null,
   "metadata": {},
   "outputs": [],
   "source": [
    "def md5(fname):\n",
    "    hash_md5 = hashlib.md5()\n",
    "    with open(fname, \"rb\") as f:\n",
    "        for chunk in iter(lambda: f.read(4096), b\"\"):\n",
    "            hash_md5.update(chunk)\n",
    "    return hash_md5.hexdigest()\n",
    "\n",
    "def add_to_dict(fp, md5dict):\n",
    "    for filename in glob.glob(fp):\n",
    "        md5_value = md5(filename)\n",
    "        try:        \n",
    "            if md5_value in md5dict:\n",
    "                new_list = md5dict[md5_value]\n",
    "                new_list.append(filename)\n",
    "            else:\n",
    "                md5dict[md5_value] = list([filename])\n",
    "                \n",
    "        except Exception as e:\n",
    "            print(\"filename: %s, exception %s\"%(filename, e))\n",
    "            \n",
    "    return md5dict\n",
    "    "
   ]
  },
  {
   "cell_type": "code",
   "execution_count": null,
   "metadata": {},
   "outputs": [],
   "source": [
    "# First populate the map with photos already deduped\n",
    "md5dict = add_to_dict('/Users/vkulkarni/Pictures/DeDupedPhotos/*', md5dict)\n",
    "len(md5dict.keys())\n",
    "\n",
    "# Now add the additional photos not previously checked in\n",
    "md5dict = add_to_dict('/Users/vkulkarni/Downloads/DCIM/100NCD90/*', md5dict)\n",
    "print(\"I have %d files in dict\"%len(md5dict.keys()))\n",
    "\n",
    "md5dict = add_to_dict('/Users/vkulkarni/Downloads/DCIM/100NCD90/*', md5dict)\n",
    "print(\"I have %d files in dict\"%len(md5dict.keys()))\n",
    "\n",
    "md5dict = add_to_dict('/Users/vkulkarni/Downloads/DCIM/101NCD90/*.JPG', md5dict)\n",
    "print(\"I have %d files in dict\"%len(md5dict.keys()))\n",
    "\n",
    "md5dict = add_to_dict('/Users/vkulkarni/Downloads/DCIM/101NCD90/*.NEF', md5dict)\n",
    "print(\"I have %d files in dict\"%len(md5dict.keys()))\n",
    "\n",
    "md5dict = add_to_dict('/Users/vkulkarni/Downloads/DCIM/101NCD90/New/*', md5dict)\n",
    "print(\"I have %d files in dict\"%len(md5dict.keys()))\n",
    "\n",
    "\n",
    "\n"
   ]
  },
  {
   "cell_type": "code",
   "execution_count": null,
   "metadata": {
    "collapsed": true
   },
   "outputs": [],
   "source": [
    "# iterate over the dictionary and move files to a new location\n",
    "counter = 0\n",
    "append_str = 'Jan2019_DeDup'\n",
    "for chksum in md5dict:\n",
    "    counter = counter + 1\n",
    "    fn = md5dict[chksum][0]\n",
    "    name, extension = fn.rsplit(\"/\")[-1].rsplit(\".\")\n",
    "    copyfile(fn, fp_output_new+append_str+ (counter).__str__()+'.'+extension)"
   ]
  }
 ],
 "metadata": {
  "kernelspec": {
   "display_name": "Python 3",
   "language": "python",
   "name": "python3"
  },
  "language_info": {
   "codemirror_mode": {
    "name": "ipython",
    "version": 3
   },
   "file_extension": ".py",
   "mimetype": "text/x-python",
   "name": "python",
   "nbconvert_exporter": "python",
   "pygments_lexer": "ipython3",
   "version": "3.6.3"
  }
 },
 "nbformat": 4,
 "nbformat_minor": 1
}
